{
 "cells": [
  {
   "cell_type": "code",
   "execution_count": 62,
   "metadata": {},
   "outputs": [],
   "source": [
    "from __future__ import division\n",
    "import numpy as np\n",
    "import pickle\n",
    "import sys"
   ]
  },
  {
   "cell_type": "code",
   "execution_count": 63,
   "metadata": {},
   "outputs": [],
   "source": [
    "if sys.version_info.major == 2:\n",
    "    X,y,Xtest,ytest = pickle.load(open('sample.pickle','rb'))\n",
    "else:\n",
    "    X,y,Xtest,ytest = pickle.load(open('sample.pickle','rb'),encoding = 'latin1')"
   ]
  },
  {
   "cell_type": "code",
   "execution_count": 64,
   "metadata": {},
   "outputs": [],
   "source": [
    "data_map = {}\n",
    "means = []\n",
    "for i in range(X.shape[0]):\n",
    "    key = int(y[i])\n",
    "    try:\n",
    "        data_map[key].append(X[i])\n",
    "    except KeyError:\n",
    "        data_map[key] = [X[i]]\n",
    "for key, value in data_map.items():\n",
    "    data_map[key] = np.asarray(value)\n",
    "    means.append(np.sum(data_map[key], axis=0) / data_map[key].shape[0])\n",
    "means = np.asarray(means).T\n",
    "meanX = np.sum(X, axis=0) / X.shape[0]\n",
    "variance = np.sum(np.square(X - meanX), axis=0) / X.shape[0]\n",
    "covmats = np.diag(variance)"
   ]
  },
  {
   "cell_type": "code",
   "execution_count": 65,
   "metadata": {},
   "outputs": [
    {
     "name": "stdout",
     "output_type": "stream",
     "text": [
      "accuracy is 0.97\n"
     ]
    }
   ],
   "source": [
    "ypred = []\n",
    "acc = 0\n",
    "means = means.T\n",
    "inv_cov = covmats\n",
    "for i in range(covmats.shape[0]):\n",
    "    inv_cov[i][i] = 1 / inv_cov[i][i]\n",
    "for j in range(Xtest.shape[0]):\n",
    "    best_prob = float('inf')\n",
    "    predict = 0\n",
    "    for i in range(means.shape[0]):\n",
    "#         print Xtest[j].shape, means[i].shape\n",
    "#         print means[i].shape\n",
    "        mean_diff = Xtest[j] - means[i]\n",
    "        exponent = np.matmul(np.matmul(mean_diff.T, inv_cov), mean_diff)\n",
    "        if exponent < best_prob:\n",
    "            best_prob = exponent\n",
    "            predict = i+1\n",
    "#             print(j,i+1,ytest[j],exponent)\n",
    "    ypred.append(predict)\n",
    "    if predict == ytest[j]:\n",
    "        acc+=1\n",
    "acc = acc / Xtest.shape[0]\n",
    "ypred = np.asarray(ypred).reshape(ytest.shape[0], 1)\n",
    "print \"accuracy is\", acc"
   ]
  },
  {
   "cell_type": "code",
   "execution_count": null,
   "metadata": {},
   "outputs": [],
   "source": []
  },
  {
   "cell_type": "code",
   "execution_count": null,
   "metadata": {},
   "outputs": [],
   "source": []
  },
  {
   "cell_type": "code",
   "execution_count": null,
   "metadata": {},
   "outputs": [],
   "source": []
  },
  {
   "cell_type": "code",
   "execution_count": null,
   "metadata": {},
   "outputs": [],
   "source": []
  },
  {
   "cell_type": "code",
   "execution_count": null,
   "metadata": {},
   "outputs": [],
   "source": []
  },
  {
   "cell_type": "code",
   "execution_count": null,
   "metadata": {},
   "outputs": [],
   "source": []
  }
 ],
 "metadata": {
  "kernelspec": {
   "display_name": "Python 2",
   "language": "python",
   "name": "python2"
  },
  "language_info": {
   "codemirror_mode": {
    "name": "ipython",
    "version": 2
   },
   "file_extension": ".py",
   "mimetype": "text/x-python",
   "name": "python",
   "nbconvert_exporter": "python",
   "pygments_lexer": "ipython2",
   "version": "2.7.15"
  }
 },
 "nbformat": 4,
 "nbformat_minor": 2
}
